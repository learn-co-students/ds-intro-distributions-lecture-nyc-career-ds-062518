{
 "cells": [
  {
   "cell_type": "markdown",
   "metadata": {},
   "source": [
    "# Introduction to distributions"
   ]
  },
  {
   "cell_type": "markdown",
   "metadata": {},
   "source": [
    "## Introduction"
   ]
  },
  {
   "cell_type": "markdown",
   "metadata": {},
   "source": [
    "In previous labs, we have discussed probability density functions, measures of center and measures of dispersion. All these concepts relate to one main concept, the concept of a **random variable** or a **stochastic variable**. An endless amount of concepts observed in daily life are random variables. examples include:\n",
    "\n",
    "- The number of customers in a supermarket tomorrow between 1PM and 2PM.\n",
    "- The maximum temperature in Boston next Friday.\n",
    "- The share price on the NY stock exchange, tomorrow at 3:23PM.\n",
    "- The outcome of throwing a dice.\n",
    "- etc.\n",
    "\n",
    "We can not calculate the exact values of all these quantities in advance.\n",
    "\n",
    "We can (hopefully) perceive them at the moment they actually happen. In any case, we can ask ourselves the questions like:\n",
    "\n",
    "what is the probability that the temperature is higher than 73 degrees Fahrenheit? Or that there will be no more than 20 customers visiting our supermarket tomorrow? Or that we throw exactly a 6 when rolling a dice?\n",
    "\n",
    "The example of rolling a dice might sound familiar from the combinatorics section.\n",
    "Here, events were collections of outcomes in a given universe. Now, when we talk about random variables, we are of course dealing with an experiment where randomness plays even a bigger role, yet in theory we can again define the collection of all possible outcomes.\n",
    "\n",
    "For each possible result (outcome) in $\\Omega$, the random variable assumes a certain value. The random variable can thus be seen as a function that depicts each outcome on a (real / integer) number. Because in advance it is not certain which outcome will occur, the\n",
    "function value also incurs randomness.\n",
    "\n",
    "In practice it is often rather abstract to imagine a collection of all possible outcomes in an experiment. For example: which outcomes collection is behind a stock price, a maximum temperature, etc.? In practice, a lot of random events approximately follow some common **probability distributions**. Therefore, this is what will be covered in this section. Broadly, you can distinguish two types of probability distributions: **discrete probability distributions** and **continuous probability distributions**."
   ]
  },
  {
   "cell_type": "markdown",
   "metadata": {},
   "source": [
    "## Discrete probability distributions"
   ]
  },
  {
   "cell_type": "markdown",
   "metadata": {},
   "source": [
    " A discrete random variable can only assume isolated values, that is, a finite number or an infinite but countable number of values. A continuous variable can assume a continuum of values.\n",
    " \n",
    "Examples of discrete random variables are: the number of customers in a store, the outcome when rolling a di ce,...  "
   ]
  },
  {
   "cell_type": "markdown",
   "metadata": {},
   "source": [
    "### The probability density function"
   ]
  },
  {
   "cell_type": "markdown",
   "metadata": {},
   "source": [
    "$p_X(x)=P(X=x)$ denotes the probability that our random variable $X$ takes the value $x$.\n",
    "\n",
    "For example, when rolling a dice: $P(X=6) = \\dfrac{1}{6}$\n",
    "\n",
    "Another example, when rolling a dice:\n",
    "$P(X=7) = 0$\n",
    "\n",
    "\n",
    "properties: \n",
    "- $0 \\leq p_X(x)  \\leq 1 $ \n",
    "- $\\displaystyle\\sum_xp_X(x)=1$"
   ]
  },
  {
   "cell_type": "markdown",
   "metadata": {},
   "source": [
    "![title](px_dice.png)"
   ]
  },
  {
   "cell_type": "markdown",
   "metadata": {},
   "source": [
    "### The cumulative distribution function"
   ]
  },
  {
   "cell_type": "markdown",
   "metadata": {},
   "source": [
    "The cumulative distribution tells you for each value what the probability is that random variable $X$ is smaller than a certain value $x$. The cumulative distribution function is given by $F_X(x)=P(X \\leq x)$."
   ]
  },
  {
   "cell_type": "markdown",
   "metadata": {},
   "source": [
    "![title](fx_dice.png)"
   ]
  },
  {
   "cell_type": "markdown",
   "metadata": {},
   "source": [
    "- $0 \\leq F_X(x)  \\leq 1 $ \n",
    "- $S_X(x)= 1-F_X(x) $ is often denoted the _survival_ function."
   ]
  },
  {
   "cell_type": "markdown",
   "metadata": {},
   "source": [
    "## Continuous probability distributions"
   ]
  },
  {
   "cell_type": "markdown",
   "metadata": {},
   "source": [
    "Many random variables are continuous: the maximum temperature in Boston is, and so is a stock value at a certain point in time. Note that often, a continuous variable can only be measured with finite precision (a fixed number of significant figures before and/or after the decimal point), and will still be stored as discrete."
   ]
  },
  {
   "cell_type": "markdown",
   "metadata": {},
   "source": [
    "### The probability density function"
   ]
  },
  {
   "cell_type": "markdown",
   "metadata": {},
   "source": [
    "As mentioned before, the maximum temperature tomorrow can take a continuous spectrum of values. Because of this, the probability of one specific value is usually zero. To understand this, think of the probability that it will be exactly 74.8123 degrees Fahrenheit tomorrow. This probability is extremely small, so basically $P (X = x) = 0$. Because of this reason, it does not make much sense to denote a chance mass function. A cumulative distribution function is possible."
   ]
  },
  {
   "cell_type": "markdown",
   "metadata": {},
   "source": [
    "### The cumulative distribution function"
   ]
  },
  {
   "cell_type": "markdown",
   "metadata": {},
   "source": [
    "- $F_X(x)$ is a non-decreasing positive function with values smaller than 1.\n",
    "- $\\displaystyle\\lim_{x\\rightarrow -\\infty} F_X(x)= 0$\n",
    "- $\\displaystyle\\lim_{x\\rightarrow +\\infty} F_X(x)= 1$\n",
    "- for 2 values $a$ and $b$, $P(a\\leq X \\leq b) = F_X(b)-F_X(a) $"
   ]
  },
  {
   "cell_type": "markdown",
   "metadata": {},
   "source": [
    "![title](fx_cont.png)"
   ]
  }
 ],
 "metadata": {
  "kernelspec": {
   "display_name": "Python 3",
   "language": "python",
   "name": "python3"
  },
  "language_info": {
   "codemirror_mode": {
    "name": "ipython",
    "version": 3
   },
   "file_extension": ".py",
   "mimetype": "text/x-python",
   "name": "python",
   "nbconvert_exporter": "python",
   "pygments_lexer": "ipython3",
   "version": "3.6.5"
  }
 },
 "nbformat": 4,
 "nbformat_minor": 2
}
